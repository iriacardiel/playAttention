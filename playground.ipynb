{
 "cells": [
  {
   "cell_type": "code",
   "execution_count": 7,
   "id": "1f3cf7e6",
   "metadata": {},
   "outputs": [],
   "source": [
    "import torch\n",
    "from torch import nn"
   ]
  },
  {
   "cell_type": "markdown",
   "id": "15f2661b",
   "metadata": {},
   "source": [
    "##### Dense - Fully Connected (FC) Layer - nn.Linear()"
   ]
  },
  {
   "cell_type": "markdown",
   "id": "e59b5200",
   "metadata": {},
   "source": [
    "```nn.Linear(in_features, out_features)```\n",
    "\n",
    "is equivalent to \n",
    "\n",
    "$ y = xW^T+b $ shape [1]\n",
    "\n",
    "- $ x = [3,4,5] $ shape [1x3]\n",
    "\n",
    "- $ w = [w_1, w_2, w_3] $ shape [1x3]\n",
    "\n",
    "- $ b = b $ shape [1]\n",
    "\n",
    "```in_features = 3```\n",
    "```out_features = 1```\n",
    "\n",
    "\n"
   ]
  },
  {
   "cell_type": "code",
   "execution_count": 33,
   "id": "42fdd8eb",
   "metadata": {},
   "outputs": [
    {
     "name": "stdout",
     "output_type": "stream",
     "text": [
      "w = Parameter containing:\n",
      "tensor([[-0.3451,  0.5244,  0.4520]], requires_grad=True)\n",
      "\n",
      "b = Parameter containing:\n",
      "tensor([-0.3777], requires_grad=True)\n",
      "\n",
      "y = tensor([1.6821], grad_fn=<ViewBackward0>)\n",
      "\n",
      "y_manual = tensor([1.6821], grad_fn=<AddBackward0>)\n",
      "\n"
     ]
    }
   ],
   "source": [
    "\n",
    "# Intantiate the layer\n",
    "layer = nn.Linear(in_features=3, out_features=1, bias=True)  # weight shape = [1×3], bias = [1]\n",
    "print(f\"w = {layer.weight}\\n\")  # [1 × 3] torch tensor randomly initialized\n",
    "print(f\"b = {layer.bias}\\n\")    # [1] torch tensor randomly initialized\n",
    "\n",
    "# Use the layer and check result\n",
    "x = torch.tensor([1.0, 2.0, 3.0]) # input shape = [3]\n",
    "y = layer(x) # output shape = [1]\n",
    "#y_manual = x @ layer.weight.T + layer.bias # output shape = [1]\n",
    "y_manual = torch.matmul(x, layer.weight.T) + layer.bias # output shape = [1]\n",
    "\n",
    "assert y == y_manual\n",
    "print(f\"y = {y}\\n\")\n",
    "print(f\"y_manual = {y_manual}\\n\")"
   ]
  },
  {
   "cell_type": "code",
   "execution_count": null,
   "id": "e124a8be",
   "metadata": {},
   "outputs": [],
   "source": []
  }
 ],
 "metadata": {
  "kernelspec": {
   "display_name": "venv",
   "language": "python",
   "name": "python3"
  },
  "language_info": {
   "codemirror_mode": {
    "name": "ipython",
    "version": 3
   },
   "file_extension": ".py",
   "mimetype": "text/x-python",
   "name": "python",
   "nbconvert_exporter": "python",
   "pygments_lexer": "ipython3",
   "version": "3.12.3"
  }
 },
 "nbformat": 4,
 "nbformat_minor": 5
}
